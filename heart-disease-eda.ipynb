{
 "cells": [
  {
   "cell_type": "markdown",
   "id": "486aac21",
   "metadata": {
    "_cell_guid": "b1076dfc-b9ad-4769-8c92-a6c4dae69d19",
    "_uuid": "8f2839f25d086af736a60e9eeb907d3b93b6e0e5",
    "papermill": {
     "duration": 0.005667,
     "end_time": "2024-03-10T14:37:53.578977",
     "exception": false,
     "start_time": "2024-03-10T14:37:53.573310",
     "status": "completed"
    },
    "tags": []
   },
   "source": [
    "# Heart Disease Dataset\n"
   ]
  },
  {
   "cell_type": "markdown",
   "id": "7a0e2640",
   "metadata": {
    "papermill": {
     "duration": 0.005179,
     "end_time": "2024-03-10T14:37:53.591001",
     "exception": false,
     "start_time": "2024-03-10T14:37:53.585822",
     "status": "completed"
    },
    "tags": []
   },
   "source": [
    "### Features description\n",
    "\n",
    "Age: displays the age of the individual.\n",
    "\n",
    "Sex: displays the gender of the individual: 1 = male, 0 = female\n",
    "\n",
    "Chest-pain type: type of chest-pain experienced by the individual: 1 = typical angina, \n",
    "2 = atypical angina, \n",
    "3 = non — anginal pain, \n",
    "4 = asymptotic\n",
    "\n",
    "Resting Blood Pressure: resting blood pressure value of an individual in mmHg (unit)\n",
    "\n",
    "Serum Cholestrol: serum cholesterol in mg/dl (unit)\n",
    "\n",
    "Fasting Blood Sugar: compares the fasting blood sugar value of an individual with 120mg/dl: If fasting blood sugar > 120mg/dl then : 1 (true), else : 0 (false)\n",
    "\n",
    "Resting ECG: resting electrocardiographic results: 0 = normal, 1 = having ST-T wave abnormality, 2 = left ventricular hyperthrophy\n",
    "\n",
    "Max heart rate achieved: max heart rate achieved by an individual.\n",
    "\n",
    "Exercise induced angina: 1 = yes, 0 = no\n",
    "\n",
    "ST depression induced by exercise relative to rest: value (integer/float).\n",
    "\n",
    "Peak exercise ST segment: 1 = upsloping, 2 = flat, 3 = downsloping\n",
    "\n",
    "Number of major vessels (0–3) colored by flourosopy: value (integer/float).\n",
    "\n",
    "Thal: displays the thalassemia: 3 = normal, 6 = fixed defect, 7 = reversible defect\n",
    "\n",
    "Diagnosis of heart disease: individual suffering from heart disease or not: 0 = absence; 1, 2, 3, 4 = present."
   ]
  },
  {
   "cell_type": "code",
   "execution_count": 1,
   "id": "48d6acd0",
   "metadata": {
    "execution": {
     "iopub.execute_input": "2024-03-10T14:37:53.604548Z",
     "iopub.status.busy": "2024-03-10T14:37:53.604058Z",
     "iopub.status.idle": "2024-03-10T14:38:10.179374Z",
     "shell.execute_reply": "2024-03-10T14:38:10.177944Z"
    },
    "papermill": {
     "duration": 16.585482,
     "end_time": "2024-03-10T14:38:10.182829",
     "exception": false,
     "start_time": "2024-03-10T14:37:53.597347",
     "status": "completed"
    },
    "tags": []
   },
   "outputs": [
    {
     "name": "stdout",
     "output_type": "stream",
     "text": [
      "Collecting ucimlrepo\r\n",
      "  Downloading ucimlrepo-0.0.3-py3-none-any.whl.metadata (5.2 kB)\r\n",
      "Downloading ucimlrepo-0.0.3-py3-none-any.whl (7.0 kB)\r\n",
      "Installing collected packages: ucimlrepo\r\n",
      "Successfully installed ucimlrepo-0.0.3\r\n",
      "Note: you may need to restart the kernel to use updated packages.\n"
     ]
    }
   ],
   "source": [
    "pip install ucimlrepo"
   ]
  },
  {
   "cell_type": "code",
   "execution_count": 2,
   "id": "2c3a5cea",
   "metadata": {
    "execution": {
     "iopub.execute_input": "2024-03-10T14:38:10.197050Z",
     "iopub.status.busy": "2024-03-10T14:38:10.196671Z",
     "iopub.status.idle": "2024-03-10T14:38:12.543282Z",
     "shell.execute_reply": "2024-03-10T14:38:12.542117Z"
    },
    "papermill": {
     "duration": 2.356951,
     "end_time": "2024-03-10T14:38:12.545996",
     "exception": false,
     "start_time": "2024-03-10T14:38:10.189045",
     "status": "completed"
    },
    "tags": []
   },
   "outputs": [],
   "source": [
    "from ucimlrepo import fetch_ucirepo \n",
    "import pandas as pd\n",
    "  \n",
    "# fetch dataset \n",
    "heart_disease = fetch_ucirepo(id=45) \n",
    "  \n",
    "# extract feature names from the variables DataFrame\n",
    "feature_names = heart_disease.variables['name'].tolist()\n",
    "\n",
    "# create a DataFrame\n",
    "heart_dis = pd.DataFrame(data = heart_disease.data.features, columns = feature_names)\n",
    "\n",
    "# create a 'target' column with 'num' values\n",
    "heart_dis['target'] = heart_disease.data.targets\n",
    "\n",
    "# save DataFrame to CSV\n",
    "heart_dis.to_csv('heart_disease_data.csv', index = False)"
   ]
  },
  {
   "cell_type": "code",
   "execution_count": 3,
   "id": "17d3d6ba",
   "metadata": {
    "execution": {
     "iopub.execute_input": "2024-03-10T14:38:12.559548Z",
     "iopub.status.busy": "2024-03-10T14:38:12.559161Z",
     "iopub.status.idle": "2024-03-10T14:38:12.584588Z",
     "shell.execute_reply": "2024-03-10T14:38:12.583435Z"
    },
    "papermill": {
     "duration": 0.035093,
     "end_time": "2024-03-10T14:38:12.587021",
     "exception": false,
     "start_time": "2024-03-10T14:38:12.551928",
     "status": "completed"
    },
    "tags": []
   },
   "outputs": [
    {
     "data": {
      "text/html": [
       "<div>\n",
       "<style scoped>\n",
       "    .dataframe tbody tr th:only-of-type {\n",
       "        vertical-align: middle;\n",
       "    }\n",
       "\n",
       "    .dataframe tbody tr th {\n",
       "        vertical-align: top;\n",
       "    }\n",
       "\n",
       "    .dataframe thead th {\n",
       "        text-align: right;\n",
       "    }\n",
       "</style>\n",
       "<table border=\"1\" class=\"dataframe\">\n",
       "  <thead>\n",
       "    <tr style=\"text-align: right;\">\n",
       "      <th></th>\n",
       "      <th>age</th>\n",
       "      <th>sex</th>\n",
       "      <th>cp</th>\n",
       "      <th>trestbps</th>\n",
       "      <th>chol</th>\n",
       "      <th>fbs</th>\n",
       "      <th>restecg</th>\n",
       "      <th>thalach</th>\n",
       "      <th>exang</th>\n",
       "      <th>oldpeak</th>\n",
       "      <th>slope</th>\n",
       "      <th>ca</th>\n",
       "      <th>thal</th>\n",
       "      <th>num</th>\n",
       "      <th>target</th>\n",
       "    </tr>\n",
       "  </thead>\n",
       "  <tbody>\n",
       "    <tr>\n",
       "      <th>0</th>\n",
       "      <td>63</td>\n",
       "      <td>1</td>\n",
       "      <td>1</td>\n",
       "      <td>145</td>\n",
       "      <td>233</td>\n",
       "      <td>1</td>\n",
       "      <td>2</td>\n",
       "      <td>150</td>\n",
       "      <td>0</td>\n",
       "      <td>2.3</td>\n",
       "      <td>3</td>\n",
       "      <td>0.0</td>\n",
       "      <td>6.0</td>\n",
       "      <td>NaN</td>\n",
       "      <td>0</td>\n",
       "    </tr>\n",
       "    <tr>\n",
       "      <th>1</th>\n",
       "      <td>67</td>\n",
       "      <td>1</td>\n",
       "      <td>4</td>\n",
       "      <td>160</td>\n",
       "      <td>286</td>\n",
       "      <td>0</td>\n",
       "      <td>2</td>\n",
       "      <td>108</td>\n",
       "      <td>1</td>\n",
       "      <td>1.5</td>\n",
       "      <td>2</td>\n",
       "      <td>3.0</td>\n",
       "      <td>3.0</td>\n",
       "      <td>NaN</td>\n",
       "      <td>2</td>\n",
       "    </tr>\n",
       "    <tr>\n",
       "      <th>2</th>\n",
       "      <td>67</td>\n",
       "      <td>1</td>\n",
       "      <td>4</td>\n",
       "      <td>120</td>\n",
       "      <td>229</td>\n",
       "      <td>0</td>\n",
       "      <td>2</td>\n",
       "      <td>129</td>\n",
       "      <td>1</td>\n",
       "      <td>2.6</td>\n",
       "      <td>2</td>\n",
       "      <td>2.0</td>\n",
       "      <td>7.0</td>\n",
       "      <td>NaN</td>\n",
       "      <td>1</td>\n",
       "    </tr>\n",
       "    <tr>\n",
       "      <th>3</th>\n",
       "      <td>37</td>\n",
       "      <td>1</td>\n",
       "      <td>3</td>\n",
       "      <td>130</td>\n",
       "      <td>250</td>\n",
       "      <td>0</td>\n",
       "      <td>0</td>\n",
       "      <td>187</td>\n",
       "      <td>0</td>\n",
       "      <td>3.5</td>\n",
       "      <td>3</td>\n",
       "      <td>0.0</td>\n",
       "      <td>3.0</td>\n",
       "      <td>NaN</td>\n",
       "      <td>0</td>\n",
       "    </tr>\n",
       "    <tr>\n",
       "      <th>4</th>\n",
       "      <td>41</td>\n",
       "      <td>0</td>\n",
       "      <td>2</td>\n",
       "      <td>130</td>\n",
       "      <td>204</td>\n",
       "      <td>0</td>\n",
       "      <td>2</td>\n",
       "      <td>172</td>\n",
       "      <td>0</td>\n",
       "      <td>1.4</td>\n",
       "      <td>1</td>\n",
       "      <td>0.0</td>\n",
       "      <td>3.0</td>\n",
       "      <td>NaN</td>\n",
       "      <td>0</td>\n",
       "    </tr>\n",
       "  </tbody>\n",
       "</table>\n",
       "</div>"
      ],
      "text/plain": [
       "   age  sex  cp  trestbps  chol  fbs  restecg  thalach  exang  oldpeak  slope  \\\n",
       "0   63    1   1       145   233    1        2      150      0      2.3      3   \n",
       "1   67    1   4       160   286    0        2      108      1      1.5      2   \n",
       "2   67    1   4       120   229    0        2      129      1      2.6      2   \n",
       "3   37    1   3       130   250    0        0      187      0      3.5      3   \n",
       "4   41    0   2       130   204    0        2      172      0      1.4      1   \n",
       "\n",
       "    ca  thal  num  target  \n",
       "0  0.0   6.0  NaN       0  \n",
       "1  3.0   3.0  NaN       2  \n",
       "2  2.0   7.0  NaN       1  \n",
       "3  0.0   3.0  NaN       0  \n",
       "4  0.0   3.0  NaN       0  "
      ]
     },
     "execution_count": 3,
     "metadata": {},
     "output_type": "execute_result"
    }
   ],
   "source": [
    "heart_dis.head()"
   ]
  },
  {
   "cell_type": "code",
   "execution_count": 4,
   "id": "9cd08a9e",
   "metadata": {
    "execution": {
     "iopub.execute_input": "2024-03-10T14:38:12.601705Z",
     "iopub.status.busy": "2024-03-10T14:38:12.601197Z",
     "iopub.status.idle": "2024-03-10T14:38:12.615076Z",
     "shell.execute_reply": "2024-03-10T14:38:12.613928Z"
    },
    "papermill": {
     "duration": 0.024307,
     "end_time": "2024-03-10T14:38:12.617625",
     "exception": false,
     "start_time": "2024-03-10T14:38:12.593318",
     "status": "completed"
    },
    "tags": []
   },
   "outputs": [
    {
     "data": {
      "text/plain": [
       "array([0, 2, 1, 3, 4])"
      ]
     },
     "execution_count": 4,
     "metadata": {},
     "output_type": "execute_result"
    }
   ],
   "source": [
    "unique_values = heart_dis['target'].unique()\n",
    "unique_values"
   ]
  },
  {
   "cell_type": "code",
   "execution_count": 5,
   "id": "6b63e912",
   "metadata": {
    "execution": {
     "iopub.execute_input": "2024-03-10T14:38:12.632330Z",
     "iopub.status.busy": "2024-03-10T14:38:12.631653Z",
     "iopub.status.idle": "2024-03-10T14:38:12.650387Z",
     "shell.execute_reply": "2024-03-10T14:38:12.649529Z"
    },
    "papermill": {
     "duration": 0.028506,
     "end_time": "2024-03-10T14:38:12.652510",
     "exception": false,
     "start_time": "2024-03-10T14:38:12.624004",
     "status": "completed"
    },
    "tags": []
   },
   "outputs": [
    {
     "data": {
      "text/html": [
       "<div>\n",
       "<style scoped>\n",
       "    .dataframe tbody tr th:only-of-type {\n",
       "        vertical-align: middle;\n",
       "    }\n",
       "\n",
       "    .dataframe tbody tr th {\n",
       "        vertical-align: top;\n",
       "    }\n",
       "\n",
       "    .dataframe thead th {\n",
       "        text-align: right;\n",
       "    }\n",
       "</style>\n",
       "<table border=\"1\" class=\"dataframe\">\n",
       "  <thead>\n",
       "    <tr style=\"text-align: right;\">\n",
       "      <th></th>\n",
       "      <th>age</th>\n",
       "      <th>sex</th>\n",
       "      <th>cp</th>\n",
       "      <th>trestbps</th>\n",
       "      <th>chol</th>\n",
       "      <th>fbs</th>\n",
       "      <th>restecg</th>\n",
       "      <th>thalach</th>\n",
       "      <th>exang</th>\n",
       "      <th>oldpeak</th>\n",
       "      <th>slope</th>\n",
       "      <th>ca</th>\n",
       "      <th>thal</th>\n",
       "      <th>target</th>\n",
       "    </tr>\n",
       "  </thead>\n",
       "  <tbody>\n",
       "    <tr>\n",
       "      <th>0</th>\n",
       "      <td>63</td>\n",
       "      <td>1</td>\n",
       "      <td>1</td>\n",
       "      <td>145</td>\n",
       "      <td>233</td>\n",
       "      <td>1</td>\n",
       "      <td>2</td>\n",
       "      <td>150</td>\n",
       "      <td>0</td>\n",
       "      <td>2.3</td>\n",
       "      <td>3</td>\n",
       "      <td>0.0</td>\n",
       "      <td>6.0</td>\n",
       "      <td>0</td>\n",
       "    </tr>\n",
       "    <tr>\n",
       "      <th>1</th>\n",
       "      <td>67</td>\n",
       "      <td>1</td>\n",
       "      <td>4</td>\n",
       "      <td>160</td>\n",
       "      <td>286</td>\n",
       "      <td>0</td>\n",
       "      <td>2</td>\n",
       "      <td>108</td>\n",
       "      <td>1</td>\n",
       "      <td>1.5</td>\n",
       "      <td>2</td>\n",
       "      <td>3.0</td>\n",
       "      <td>3.0</td>\n",
       "      <td>2</td>\n",
       "    </tr>\n",
       "    <tr>\n",
       "      <th>2</th>\n",
       "      <td>67</td>\n",
       "      <td>1</td>\n",
       "      <td>4</td>\n",
       "      <td>120</td>\n",
       "      <td>229</td>\n",
       "      <td>0</td>\n",
       "      <td>2</td>\n",
       "      <td>129</td>\n",
       "      <td>1</td>\n",
       "      <td>2.6</td>\n",
       "      <td>2</td>\n",
       "      <td>2.0</td>\n",
       "      <td>7.0</td>\n",
       "      <td>1</td>\n",
       "    </tr>\n",
       "    <tr>\n",
       "      <th>3</th>\n",
       "      <td>37</td>\n",
       "      <td>1</td>\n",
       "      <td>3</td>\n",
       "      <td>130</td>\n",
       "      <td>250</td>\n",
       "      <td>0</td>\n",
       "      <td>0</td>\n",
       "      <td>187</td>\n",
       "      <td>0</td>\n",
       "      <td>3.5</td>\n",
       "      <td>3</td>\n",
       "      <td>0.0</td>\n",
       "      <td>3.0</td>\n",
       "      <td>0</td>\n",
       "    </tr>\n",
       "    <tr>\n",
       "      <th>4</th>\n",
       "      <td>41</td>\n",
       "      <td>0</td>\n",
       "      <td>2</td>\n",
       "      <td>130</td>\n",
       "      <td>204</td>\n",
       "      <td>0</td>\n",
       "      <td>2</td>\n",
       "      <td>172</td>\n",
       "      <td>0</td>\n",
       "      <td>1.4</td>\n",
       "      <td>1</td>\n",
       "      <td>0.0</td>\n",
       "      <td>3.0</td>\n",
       "      <td>0</td>\n",
       "    </tr>\n",
       "  </tbody>\n",
       "</table>\n",
       "</div>"
      ],
      "text/plain": [
       "   age  sex  cp  trestbps  chol  fbs  restecg  thalach  exang  oldpeak  slope  \\\n",
       "0   63    1   1       145   233    1        2      150      0      2.3      3   \n",
       "1   67    1   4       160   286    0        2      108      1      1.5      2   \n",
       "2   67    1   4       120   229    0        2      129      1      2.6      2   \n",
       "3   37    1   3       130   250    0        0      187      0      3.5      3   \n",
       "4   41    0   2       130   204    0        2      172      0      1.4      1   \n",
       "\n",
       "    ca  thal  target  \n",
       "0  0.0   6.0       0  \n",
       "1  3.0   3.0       2  \n",
       "2  2.0   7.0       1  \n",
       "3  0.0   3.0       0  \n",
       "4  0.0   3.0       0  "
      ]
     },
     "execution_count": 5,
     "metadata": {},
     "output_type": "execute_result"
    }
   ],
   "source": [
    "# drop the 'num' column from the features\n",
    "heart_dis = heart_dis.drop(columns=['num'], errors='ignore')\n",
    "\n",
    "heart_dis.head()"
   ]
  },
  {
   "cell_type": "code",
   "execution_count": 6,
   "id": "c80a7203",
   "metadata": {
    "execution": {
     "iopub.execute_input": "2024-03-10T14:38:12.668805Z",
     "iopub.status.busy": "2024-03-10T14:38:12.667816Z",
     "iopub.status.idle": "2024-03-10T14:38:12.676556Z",
     "shell.execute_reply": "2024-03-10T14:38:12.675417Z"
    },
    "papermill": {
     "duration": 0.019155,
     "end_time": "2024-03-10T14:38:12.679044",
     "exception": false,
     "start_time": "2024-03-10T14:38:12.659889",
     "status": "completed"
    },
    "tags": []
   },
   "outputs": [
    {
     "data": {
      "text/plain": [
       "age         0\n",
       "sex         0\n",
       "cp          0\n",
       "trestbps    0\n",
       "chol        0\n",
       "fbs         0\n",
       "restecg     0\n",
       "thalach     0\n",
       "exang       0\n",
       "oldpeak     0\n",
       "slope       0\n",
       "ca          4\n",
       "thal        2\n",
       "target      0\n",
       "dtype: int64"
      ]
     },
     "execution_count": 6,
     "metadata": {},
     "output_type": "execute_result"
    }
   ],
   "source": [
    "# check for missing values in the DataFrame\n",
    "missing_values = heart_dis.isnull().sum()\n",
    "\n",
    "# count of missing values for each column\n",
    "missing_values"
   ]
  },
  {
   "cell_type": "code",
   "execution_count": 7,
   "id": "50b76174",
   "metadata": {
    "execution": {
     "iopub.execute_input": "2024-03-10T14:38:12.694933Z",
     "iopub.status.busy": "2024-03-10T14:38:12.694531Z",
     "iopub.status.idle": "2024-03-10T14:38:12.713064Z",
     "shell.execute_reply": "2024-03-10T14:38:12.711690Z"
    },
    "papermill": {
     "duration": 0.029347,
     "end_time": "2024-03-10T14:38:12.715566",
     "exception": false,
     "start_time": "2024-03-10T14:38:12.686219",
     "status": "completed"
    },
    "tags": []
   },
   "outputs": [
    {
     "name": "stdout",
     "output_type": "stream",
     "text": [
      "Rows with missing 'ca' values:\n",
      "     age  sex  cp  trestbps  chol  fbs  restecg  thalach  exang  oldpeak  \\\n",
      "166   52    1   3       138   223    0        0      169      0      0.0   \n",
      "192   43    1   4       132   247    1        2      143      1      0.1   \n",
      "287   58    1   2       125   220    0        0      144      0      0.4   \n",
      "302   38    1   3       138   175    0        0      173      0      0.0   \n",
      "\n",
      "     slope  ca  thal  target  \n",
      "166      1 NaN   3.0       0  \n",
      "192      2 NaN   7.0       1  \n",
      "287      2 NaN   7.0       0  \n",
      "302      1 NaN   3.0       0  \n",
      "\n",
      "Rows with missing 'thal' values:\n",
      "     age  sex  cp  trestbps  chol  fbs  restecg  thalach  exang  oldpeak  \\\n",
      "87    53    0   3       128   216    0        2      115      0      0.0   \n",
      "266   52    1   4       128   204    1        0      156      1      1.0   \n",
      "\n",
      "     slope   ca  thal  target  \n",
      "87       1  0.0   NaN       0  \n",
      "266      2  0.0   NaN       2  \n"
     ]
    }
   ],
   "source": [
    "# identify rows with missing values in 'ca' and 'thal' columns\n",
    "missing_rows_ca = heart_dis[heart_dis['ca'].isnull()]\n",
    "missing_rows_thal = heart_dis[heart_dis['thal'].isnull()]\n",
    "\n",
    "# Display the rows with missing values\n",
    "print(\"Rows with missing 'ca' values:\")\n",
    "print(missing_rows_ca)\n",
    "\n",
    "print(\"\\nRows with missing 'thal' values:\")\n",
    "print(missing_rows_thal)"
   ]
  },
  {
   "cell_type": "markdown",
   "id": "3b98d2fa",
   "metadata": {
    "papermill": {
     "duration": 0.006672,
     "end_time": "2024-03-10T14:38:12.729299",
     "exception": false,
     "start_time": "2024-03-10T14:38:12.722627",
     "status": "completed"
    },
    "tags": []
   },
   "source": [
    "Patients 166, 287, 302 do not have heart disease, so I will impute the 'ca' values with the mean of the healthy patients.\n",
    "For patient 192, I will change the ca value with the mean of those suffering from heart disease, stage 1.\n",
    "In an analogue way, I will do the same for the 'thal' values."
   ]
  },
  {
   "cell_type": "code",
   "execution_count": 8,
   "id": "e5d07962",
   "metadata": {
    "execution": {
     "iopub.execute_input": "2024-03-10T14:38:12.745561Z",
     "iopub.status.busy": "2024-03-10T14:38:12.744884Z",
     "iopub.status.idle": "2024-03-10T14:38:12.757265Z",
     "shell.execute_reply": "2024-03-10T14:38:12.756363Z"
    },
    "papermill": {
     "duration": 0.023305,
     "end_time": "2024-03-10T14:38:12.759598",
     "exception": false,
     "start_time": "2024-03-10T14:38:12.736293",
     "status": "completed"
    },
    "tags": []
   },
   "outputs": [
    {
     "data": {
      "text/plain": [
       "age         0\n",
       "sex         0\n",
       "cp          0\n",
       "trestbps    0\n",
       "chol        0\n",
       "fbs         0\n",
       "restecg     0\n",
       "thalach     0\n",
       "exang       0\n",
       "oldpeak     0\n",
       "slope       0\n",
       "ca          1\n",
       "thal        2\n",
       "target      0\n",
       "dtype: int64"
      ]
     },
     "execution_count": 8,
     "metadata": {},
     "output_type": "execute_result"
    }
   ],
   "source": [
    "# calculate the mean 'ca' value for rows with target 0\n",
    "mean_ca_target_0 = heart_dis.loc[heart_dis['target'] == 0, 'ca'].mean()\n",
    "\n",
    "# update 'ca' values for rows 166, 287, and 302 with the mean\n",
    "rows_to_update = [166, 287, 302]\n",
    "heart_dis.loc[rows_to_update, 'ca'] = heart_dis.loc[rows_to_update, 'ca'].fillna(mean_ca_target_0)\n",
    "\n",
    "# verify that missing values have been filled\n",
    "heart_dis.isnull().sum()"
   ]
  },
  {
   "cell_type": "code",
   "execution_count": 9,
   "id": "2d94991d",
   "metadata": {
    "execution": {
     "iopub.execute_input": "2024-03-10T14:38:12.776726Z",
     "iopub.status.busy": "2024-03-10T14:38:12.776048Z",
     "iopub.status.idle": "2024-03-10T14:38:12.788456Z",
     "shell.execute_reply": "2024-03-10T14:38:12.787217Z"
    },
    "papermill": {
     "duration": 0.023792,
     "end_time": "2024-03-10T14:38:12.791047",
     "exception": false,
     "start_time": "2024-03-10T14:38:12.767255",
     "status": "completed"
    },
    "tags": []
   },
   "outputs": [
    {
     "data": {
      "text/plain": [
       "age         0\n",
       "sex         0\n",
       "cp          0\n",
       "trestbps    0\n",
       "chol        0\n",
       "fbs         0\n",
       "restecg     0\n",
       "thalach     0\n",
       "exang       0\n",
       "oldpeak     0\n",
       "slope       0\n",
       "ca          0\n",
       "thal        2\n",
       "target      0\n",
       "dtype: int64"
      ]
     },
     "execution_count": 9,
     "metadata": {},
     "output_type": "execute_result"
    }
   ],
   "source": [
    "# calculate the mean 'ca' values for rows with target 1\n",
    "mean_ca_target_1 = heart_dis.loc[heart_dis['target'] == 1, 'ca'].mean()\n",
    "\n",
    "# update 'ca' value for row 192 with the mean\n",
    "heart_dis.loc[[192], 'ca'] = heart_dis.loc[[192], 'ca'].fillna(mean_ca_target_1)\n",
    "\n",
    "heart_dis.isnull().sum()"
   ]
  },
  {
   "cell_type": "code",
   "execution_count": 10,
   "id": "32d42f2a",
   "metadata": {
    "execution": {
     "iopub.execute_input": "2024-03-10T14:38:12.808240Z",
     "iopub.status.busy": "2024-03-10T14:38:12.807513Z",
     "iopub.status.idle": "2024-03-10T14:38:12.826086Z",
     "shell.execute_reply": "2024-03-10T14:38:12.824920Z"
    },
    "papermill": {
     "duration": 0.029534,
     "end_time": "2024-03-10T14:38:12.828509",
     "exception": false,
     "start_time": "2024-03-10T14:38:12.798975",
     "status": "completed"
    },
    "tags": []
   },
   "outputs": [
    {
     "data": {
      "text/plain": [
       "age         0\n",
       "sex         0\n",
       "cp          0\n",
       "trestbps    0\n",
       "chol        0\n",
       "fbs         0\n",
       "restecg     0\n",
       "thalach     0\n",
       "exang       0\n",
       "oldpeak     0\n",
       "slope       0\n",
       "ca          0\n",
       "thal        0\n",
       "target      0\n",
       "dtype: int64"
      ]
     },
     "execution_count": 10,
     "metadata": {},
     "output_type": "execute_result"
    }
   ],
   "source": [
    "# calculate the mean 'thal' values for rows with target 0\n",
    "mean_thal_target_0 = heart_dis.loc[heart_dis['target'] == 0, 'thal'].mean()\n",
    "\n",
    "# update 'thal' value for row 87 with the mean \n",
    "heart_dis.loc[[87], 'thal'] = heart_dis.loc[[87], 'thal'].fillna(mean_thal_target_0)\n",
    "\n",
    "mean_thal_target_2 = heart_dis.loc[heart_dis['target'] == 2, 'thal'].mean()\n",
    "heart_dis.loc[[266], 'thal'] = heart_dis.loc[[266], 'thal'].fillna(mean_thal_target_2)\n",
    "\n",
    "heart_dis.isnull().sum()"
   ]
  },
  {
   "cell_type": "code",
   "execution_count": null,
   "id": "5a6578aa",
   "metadata": {
    "papermill": {
     "duration": 0.007516,
     "end_time": "2024-03-10T14:38:12.843857",
     "exception": false,
     "start_time": "2024-03-10T14:38:12.836341",
     "status": "completed"
    },
    "tags": []
   },
   "outputs": [],
   "source": []
  }
 ],
 "metadata": {
  "kaggle": {
   "accelerator": "none",
   "dataSources": [],
   "dockerImageVersionId": 30664,
   "isGpuEnabled": false,
   "isInternetEnabled": true,
   "language": "python",
   "sourceType": "notebook"
  },
  "kernelspec": {
   "display_name": "Python 3",
   "language": "python",
   "name": "python3"
  },
  "language_info": {
   "codemirror_mode": {
    "name": "ipython",
    "version": 3
   },
   "file_extension": ".py",
   "mimetype": "text/x-python",
   "name": "python",
   "nbconvert_exporter": "python",
   "pygments_lexer": "ipython3",
   "version": "3.10.13"
  },
  "papermill": {
   "default_parameters": {},
   "duration": 22.813273,
   "end_time": "2024-03-10T14:38:13.373214",
   "environment_variables": {},
   "exception": null,
   "input_path": "__notebook__.ipynb",
   "output_path": "__notebook__.ipynb",
   "parameters": {},
   "start_time": "2024-03-10T14:37:50.559941",
   "version": "2.5.0"
  }
 },
 "nbformat": 4,
 "nbformat_minor": 5
}
